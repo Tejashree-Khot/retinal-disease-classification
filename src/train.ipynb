{
 "cells": [
  {
   "cell_type": "markdown",
   "id": "4fd5713b-92cf-4462-b298-f0f59ff85a91",
   "metadata": {},
   "source": [
    "### Train Retinal desease classification model "
   ]
  },
  {
   "cell_type": "code",
   "execution_count": 1,
   "id": "fb3737d3-0eea-485a-a5e3-8c12f895c09c",
   "metadata": {
    "scrolled": true
   },
   "outputs": [],
   "source": [
    "# import os\n",
    "\n",
    "# from matplotlib import pyplot as plt\n",
    "# import torch\n",
    "\n",
    "# DEVICE = torch.device(\"cuda\" if torch.cuda.is_available() else \"cpu\")"
   ]
  },
  {
   "cell_type": "code",
   "execution_count": null,
   "id": "ce3d18c0-5a0e-4e32-8a6b-80eaba65015c",
   "metadata": {},
   "outputs": [],
   "source": []
  }
 ],
 "metadata": {
  "kernelspec": {
   "display_name": "retina",
   "language": "python",
   "name": "python3"
  },
  "language_info": {
   "codemirror_mode": {
    "name": "ipython",
    "version": 3
   },
   "file_extension": ".py",
   "mimetype": "text/x-python",
   "name": "python",
   "nbconvert_exporter": "python",
   "pygments_lexer": "ipython3",
   "version": "3.11.13"
  }
 },
 "nbformat": 4,
 "nbformat_minor": 5
}
